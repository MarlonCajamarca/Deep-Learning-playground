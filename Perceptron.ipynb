{
  "nbformat": 4,
  "nbformat_minor": 0,
  "metadata": {
    "colab": {
      "name": "Perceptron.ipynb",
      "version": "0.3.2",
      "provenance": [],
      "collapsed_sections": [],
      "include_colab_link": true
    },
    "kernelspec": {
      "name": "python3",
      "display_name": "Python 3"
    },
    "accelerator": "GPU"
  },
  "cells": [
    {
      "cell_type": "markdown",
      "metadata": {
        "id": "view-in-github",
        "colab_type": "text"
      },
      "source": [
        "[View in Colaboratory](https://colab.research.google.com/github/MarlonCajamarca/Deep-Learning-playground/blob/master/Perceptron.ipynb)"
      ]
    },
    {
      "metadata": {
        "id": "YNN5CFtv-wvr",
        "colab_type": "text"
      },
      "cell_type": "markdown",
      "source": [
        "# **Perceptron Algorithm**\n",
        "---\n",
        "\n",
        "\n",
        "\n",
        "1. Initialize the weights to 0 or small random numbers\n",
        "2. For each training example $x_i$:\n",
        "\n",
        "> a. Compute output prediction $\\hat{y_i}$.\n",
        "\n",
        "> b. Compute the loss function\n",
        "\n",
        "> c. Update the weights $w$ using **perceptron learning rule**:\n",
        "\n",
        ">> $w_j = w_j + \\Delta w_j$\n",
        "\n",
        ">> $\\Delta w_j = \\eta (target^i - pred^i) x_j^i$\n",
        "\n",
        ">> $\\Delta w_j = \\eta (y^i - \\hat{y}^i) x_j^i$\n",
        "\n",
        "3. Perceptron will converge if two classes are linear separable and learning rate $\\eta$ is sufficiently small.\n",
        "\n"
      ]
    },
    {
      "metadata": {
        "id": "9gICiJt9IaNC",
        "colab_type": "text"
      },
      "cell_type": "markdown",
      "source": [
        "![Perceptron Learning algorithm](https://sebastianraschka.com/images/faq/classifier-history/perceptron-figure.png)\n",
        "\n"
      ]
    },
    {
      "metadata": {
        "id": "7v8wewQdK3hH",
        "colab_type": "text"
      },
      "cell_type": "markdown",
      "source": [
        "**Perceptron Algorithm in Python for Iris Dataset Classification**\n",
        "\n",
        "**1. The perceptron python interface**\n",
        "\n",
        "- Object-oriented Python Classes for creating different perceptrons experiments.\n",
        "\n",
        "- **```fit```** and **```predict```** methods for training and testing algorithm.\n",
        "\n",
        "- atributes created inside the interface (appart from initialization parameters) will have an appended underscore, i.e. **```self.w_```**\n",
        "\n"
      ]
    },
    {
      "metadata": {
        "id": "B7iZ3Vp4-TX8",
        "colab_type": "code",
        "colab": {}
      },
      "cell_type": "code",
      "source": [
        "# Perceptron Implementation\n",
        "\n",
        "import numpy as np"
      ],
      "execution_count": 0,
      "outputs": []
    },
    {
      "metadata": {
        "id": "kpE7H71J_CDQ",
        "colab_type": "code",
        "colab": {}
      },
      "cell_type": "code",
      "source": [
        "class Perceptron(object) :\n",
        "  \"\"\"\n",
        "  Parameters (given to initialize object)\n",
        "  __________\n",
        "  eta: float\n",
        "    Learning rate\n",
        "  n_iter = int\n",
        "    #Epochs - Passes over the training data\n",
        "  random_state = int\n",
        "    Random number generator seed for random weight initialization\n",
        "    \n",
        "  \n",
        "  Attributes (created during methods execution)\n",
        "  __________\n",
        "  w_ : float 1d array\n",
        "    Weights or learnable parameters\n",
        "  errors_ : int list\n",
        "    Errors or missclassifications for each Epoch. Stored in a list\n",
        "    \n",
        "  \"\"\"\n",
        "  def __init__(self, eta=0.01, n_iter=50, random_state=19):\n",
        "    \"\"\"Importing and initializing input parameters for the object\"\"\"\n",
        "    self.eta = eta\n",
        "    self.n_iter = n_iter\n",
        "    self.random_state = random_state\n",
        "    \n",
        "  def fit(self, X, y):\n",
        "    \"\"\" Train the perceptron using X input data and y true labels\"\"\"\n",
        "    rgen = np.random.RandomState(self.random_state)\n",
        "    # Randomly initialize weight vector using normal distribution with \n",
        "    # mean=0.0, std=0.01 and output a vector of num_weights = 1 + num_features \n",
        "    self.w_ = rgen.normal(loc=0.0, scale=0.01, size=1 + X.shape[1])\n",
        "    self.errors_ = []\n",
        "    for i in range(self.n_iter):\n",
        "      error = 0\n",
        "      for x_i, y_i in zip(X, y):\n",
        "        loss = y_i - self.predict(x_i)\n",
        "        update = self.eta * loss\n",
        "        # Updating weights\n",
        "        self.w_[1:] += update * x_i\n",
        "        # Updating bias\n",
        "        self.w_[0] += update\n",
        "        # Calculating accumulated prediction error - +1 if error +0 correct \n",
        "        # prediction\n",
        "        error += int(update != 0.0)\n",
        "      self.errors_.append(error)\n",
        "    return self  \n",
        "    \n",
        "  def net_input(self, X):\n",
        "    \"\"\"Calculate the net input z = dot(w.T, x_i) + b\"\"\"\n",
        "    return np.dot(X, self.w_[1:]) + self.w_[0]\n",
        "    \n",
        "  def predict(self, X):\n",
        "    \"\"\"Return threshole prediction based on z\"\"\"\n",
        "    return np.where(self.net_input(X) >= 0.0, 1, -1)"
      ],
      "execution_count": 0,
      "outputs": []
    },
    {
      "metadata": {
        "id": "-TuFPrj4kukL",
        "colab_type": "text"
      },
      "cell_type": "markdown",
      "source": [
        "**2. Training Perceptron model on Iris Dataset**\n",
        "- Import Iris Dataset suing ```pandas``` python library.\n",
        "- Use only 2 of the 3 classes to perform binary classification.\n",
        "- Consider only 2 of the 4 features for each sample.\n",
        "- Use Perceptron Interface for binary classification on Iris Dataset."
      ]
    },
    {
      "metadata": {
        "id": "FdqFSJrxZpwq",
        "colab_type": "code",
        "colab": {}
      },
      "cell_type": "code",
      "source": [
        "import pandas as pd"
      ],
      "execution_count": 0,
      "outputs": []
    },
    {
      "metadata": {
        "id": "fIhS6LyDlwFs",
        "colab_type": "code",
        "colab": {
          "base_uri": "https://localhost:8080/",
          "height": 202
        },
        "outputId": "4405a844-722f-460f-a0d6-5089607a5d8e"
      },
      "cell_type": "code",
      "source": [
        "df = pd.read_csv(\"https://archive.ics.uci.edu/ml/machine-learning-databases/iris/iris.data\",\n",
        "                header = None)\n",
        "df.tail()"
      ],
      "execution_count": 4,
      "outputs": [
        {
          "output_type": "execute_result",
          "data": {
            "text/html": [
              "<div>\n",
              "<style scoped>\n",
              "    .dataframe tbody tr th:only-of-type {\n",
              "        vertical-align: middle;\n",
              "    }\n",
              "\n",
              "    .dataframe tbody tr th {\n",
              "        vertical-align: top;\n",
              "    }\n",
              "\n",
              "    .dataframe thead th {\n",
              "        text-align: right;\n",
              "    }\n",
              "</style>\n",
              "<table border=\"1\" class=\"dataframe\">\n",
              "  <thead>\n",
              "    <tr style=\"text-align: right;\">\n",
              "      <th></th>\n",
              "      <th>0</th>\n",
              "      <th>1</th>\n",
              "      <th>2</th>\n",
              "      <th>3</th>\n",
              "      <th>4</th>\n",
              "    </tr>\n",
              "  </thead>\n",
              "  <tbody>\n",
              "    <tr>\n",
              "      <th>145</th>\n",
              "      <td>6.7</td>\n",
              "      <td>3.0</td>\n",
              "      <td>5.2</td>\n",
              "      <td>2.3</td>\n",
              "      <td>Iris-virginica</td>\n",
              "    </tr>\n",
              "    <tr>\n",
              "      <th>146</th>\n",
              "      <td>6.3</td>\n",
              "      <td>2.5</td>\n",
              "      <td>5.0</td>\n",
              "      <td>1.9</td>\n",
              "      <td>Iris-virginica</td>\n",
              "    </tr>\n",
              "    <tr>\n",
              "      <th>147</th>\n",
              "      <td>6.5</td>\n",
              "      <td>3.0</td>\n",
              "      <td>5.2</td>\n",
              "      <td>2.0</td>\n",
              "      <td>Iris-virginica</td>\n",
              "    </tr>\n",
              "    <tr>\n",
              "      <th>148</th>\n",
              "      <td>6.2</td>\n",
              "      <td>3.4</td>\n",
              "      <td>5.4</td>\n",
              "      <td>2.3</td>\n",
              "      <td>Iris-virginica</td>\n",
              "    </tr>\n",
              "    <tr>\n",
              "      <th>149</th>\n",
              "      <td>5.9</td>\n",
              "      <td>3.0</td>\n",
              "      <td>5.1</td>\n",
              "      <td>1.8</td>\n",
              "      <td>Iris-virginica</td>\n",
              "    </tr>\n",
              "  </tbody>\n",
              "</table>\n",
              "</div>"
            ],
            "text/plain": [
              "       0    1    2    3               4\n",
              "145  6.7  3.0  5.2  2.3  Iris-virginica\n",
              "146  6.3  2.5  5.0  1.9  Iris-virginica\n",
              "147  6.5  3.0  5.2  2.0  Iris-virginica\n",
              "148  6.2  3.4  5.4  2.3  Iris-virginica\n",
              "149  5.9  3.0  5.1  1.8  Iris-virginica"
            ]
          },
          "metadata": {
            "tags": []
          },
          "execution_count": 4
        }
      ]
    },
    {
      "metadata": {
        "id": "ffqCPv8toeH5",
        "colab_type": "text"
      },
      "cell_type": "markdown",
      "source": [
        "- Choosing only first 100 samples containing 50  samples of Iris-setosa and 50 samples from Iris-versicolor. \n",
        "- Iris-Versicolor will be class 1 and Iris-setosa will be class -1 (Binary classification problem)\n",
        "- Pandas ```values``` method will be used for convert labels into Numpy arrays.\n",
        "- We use only 2 features from all 4 features to create ```X```input matrix. We will use 1th feature column (sepal length) and 3rd feature column (petal length) as the features for each training example."
      ]
    },
    {
      "metadata": {
        "id": "u8FdmwPlqk5V",
        "colab_type": "code",
        "colab": {
          "base_uri": "https://localhost:8080/",
          "height": 52
        },
        "outputId": "85aa04ca-f936-4bed-d178-29b673767876"
      },
      "cell_type": "code",
      "source": [
        "# Select only setosa and versicolor input samples (first 100 samples)\n",
        "# Use pd.values to obtain Numpy arrays & df.iloc[] to slice the input Dataframe\n",
        "X = df.iloc[:100, [0,2]].values\n",
        "\n",
        "y = df.iloc[:100, 4].values\n",
        "y = np.where(y == \"Iris-setosa\", -1, 1)\n",
        "\n",
        "print(X[99])\n",
        "print(y[99])"
      ],
      "execution_count": 5,
      "outputs": [
        {
          "output_type": "stream",
          "text": [
            "[5.7 4.1]\n",
            "1\n"
          ],
          "name": "stdout"
        }
      ]
    },
    {
      "metadata": {
        "id": "FON7UldmnaVk",
        "colab_type": "code",
        "colab": {}
      },
      "cell_type": "code",
      "source": [
        "import matplotlib.pyplot as plt"
      ],
      "execution_count": 0,
      "outputs": []
    },
    {
      "metadata": {
        "id": "UjJshodOu5Ee",
        "colab_type": "code",
        "colab": {
          "base_uri": "https://localhost:8080/",
          "height": 361
        },
        "outputId": "e54ad688-4ca0-4af1-e320-37476086c78c"
      },
      "cell_type": "code",
      "source": [
        "# Plotting data using matplotlib python library\n",
        "plt.scatter(X[:50, 0], X[:50, 1], \n",
        "            c = \"red\", \n",
        "            marker = \"o\", \n",
        "            label = \"Setosa\")\n",
        "plt.scatter(X[50:, 0], X[50:, 1],\n",
        "            c = \"blue\",\n",
        "            marker = \"x\",\n",
        "            label = \"Versicolor\")\n",
        "plt.xlabel(\"Sepal length [cm]\")\n",
        "plt.ylabel(\"Petal length [cm]\")\n",
        "plt.legend(loc = \"upper left\")\n",
        "plt.show()"
      ],
      "execution_count": 9,
      "outputs": [
        {
          "output_type": "display_data",
          "data": {
            "image/png": "[encoded data removed]",
            "text/plain": [
              "<matplotlib.figure.Figure at 0x7f8744eadd90>"
            ]
          },
          "metadata": {
            "tags": []
          }
        }
      ]
    },
    {
      "metadata": {
        "id": "oqFTemfxxX7j",
        "colab_type": "text"
      },
      "cell_type": "markdown",
      "source": [
        "We can see 2 classes **Setosa-Versicolor** are linear separable when using **Sepal and Petal length** features. Therefore, Perceptron will converge to the best weights $w, b$ needed to perform the binary classification automatically.\n",
        "\n",
        "Now we need to:\n",
        "- Train a perceptron on the Iris Data-subset we already have.\n",
        "- Plot the errors for each Epoch to asses convergence."
      ]
    },
    {
      "metadata": {
        "id": "fUmRoEAVyFAb",
        "colab_type": "code",
        "colab": {
          "base_uri": "https://localhost:8080/",
          "height": 361
        },
        "outputId": "ba876f65-3976-4701-d556-d328126df986"
      },
      "cell_type": "code",
      "source": [
        "# Creating a new Perceptron \n",
        "perceptron_1 = Perceptron(eta = 0.1, n_iter = 10, random_state= 19)\n",
        "\n",
        "# Training perceptron on training data X and y\n",
        "perceptron_1.fit(X, y)\n",
        "\n",
        "# Plotting errors for each epoch\n",
        "plt.plot(range(1, len(perceptron_1.errors_) + 1),\n",
        "         perceptron_1.errors_,\n",
        "         marker = \"o\")\n",
        "plt.xlabel(\"Epochs\")\n",
        "plt.ylabel(\"# Updates/Errors\")\n",
        "plt.show()"
      ],
      "execution_count": 10,
      "outputs": [
        {
          "output_type": "display_data",
          "data": {
            "image/png": "[encoded data removed]",
            "text/plain": [
              "<matplotlib.figure.Figure at 0x7f8744a67150>"
            ]
          },
          "metadata": {
            "tags": []
          }
        }
      ]
    },
    {
      "metadata": {
        "id": "aOa_3xLa2Fj1",
        "colab_type": "text"
      },
      "cell_type": "markdown",
      "source": [
        "If we want to visualize the desicion boundary we will use a helper function showed on **Python ML book - Raschka**. The convenience function we will use is explained in detail within the book."
      ]
    },
    {
      "metadata": {
        "id": "LDMNEDK42iGD",
        "colab_type": "code",
        "colab": {}
      },
      "cell_type": "code",
      "source": [
        "from matplotlib.colors import ListedColormap\n",
        "\n",
        "def plot_decision_regions(X, y, classifier, resolution = 0.02):\n",
        "  # setup market generator and color map\n",
        "  markers = (\"s\", \"x\", \"o\", \"^\", \"v\")\n",
        "  colors  = (\"red\", \"blue\", \"lightgreen\", \"grey\", \"cyan\")\n",
        "  cmap = ListedColormap(colors[: len(np.unique(y))])\n",
        "  \n",
        "  # Find min and max values from each feature\n",
        "  x1_min, x1_max = X[:, 0].min() - 1, X[:, 0].max() + 1\n",
        "  x2_min, x2_max = X[:, 1].min() - 1, X[:, 1].max() + 1\n",
        "  \n",
        "  # Create a meshgrid using min and max values for each feature\n",
        "  xx1, xx2 = np.meshgrid(np.arange(x1_min, x1_max, resolution),\n",
        "                         np.arange(x2_min, x2_max, resolution))\n",
        "  \n",
        "  # Make predictions using meshgrid points\n",
        "  Z = classifier.predict(np.array([xx1.ravel(), xx2.ravel()]).T)\n",
        "  Z = Z.reshape(xx1.shape)\n",
        "  \n",
        "  # plot decision boundary\n",
        "  plt.contourf(xx1, xx2, Z, alpha=0.3, cmap=cmap)\n",
        "  plt.xlim(xx1.min(), xx1.max())\n",
        "  plt.ylim(xx2.min(), xx2.max())\n",
        "  \n",
        "  # Plot class samples\n",
        "  for idx, cl in enumerate(np.unique(y)):\n",
        "    plt.scatter(x = X[y == cl, 0],\n",
        "                y = X[y == cl, 1],\n",
        "                alpha = 0.8,\n",
        "                c = colors[idx],\n",
        "                marker = markers[idx],\n",
        "                label = cl,\n",
        "                edgecolor = \"black\")"
      ],
      "execution_count": 0,
      "outputs": []
    },
    {
      "metadata": {
        "id": "V9FqExUi8eD6",
        "colab_type": "text"
      },
      "cell_type": "markdown",
      "source": [
        "Now we use the helper function **```plot_decision_regions```** for plotting the decision boundary of our trained perceptron."
      ]
    },
    {
      "metadata": {
        "id": "4MOXDpg88VuS",
        "colab_type": "code",
        "colab": {
          "base_uri": "https://localhost:8080/",
          "height": 361
        },
        "outputId": "9df9780c-3fa6-490d-a3ec-c65a6d7fb3ca"
      },
      "cell_type": "code",
      "source": [
        "plot_decision_regions(X, y, classifier = perceptron_1)\n",
        "plt.xlabel(\"Sepal Length\")\n",
        "plt.ylabel(\"Petal Length\")\n",
        "plt.legend(loc = \"upper left\")\n",
        "plt.show()"
      ],
      "execution_count": 16,
      "outputs": [
        {
          "output_type": "display_data",
          "data": {
            "image/png": "[encoded data removed]",
            "text/plain": [
              "<matplotlib.figure.Figure at 0x7f8741b8d810>"
            ]
          },
          "metadata": {
            "tags": []
          }
        }
      ]
    },
    {
      "metadata": {
        "id": "vM-zWP8K94Ji",
        "colab_type": "text"
      },
      "cell_type": "markdown",
      "source": [
        "We can see the decision boundary learned by the perceptron. This case it learned to correctly classify each sample on Iris-subset. Note that perceptron will converge (weight values stop updating) only if data points are linearly-separable."
      ]
    }
  ]
}