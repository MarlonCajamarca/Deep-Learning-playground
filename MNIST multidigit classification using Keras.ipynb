{
 "cells": [
  {
   "cell_type": "markdown",
   "metadata": {},
   "source": [
    "# Tensorflow testing"
   ]
  },
  {
   "cell_type": "code",
   "execution_count": 2,
   "metadata": {},
   "outputs": [
    {
     "name": "stdout",
     "output_type": "stream",
     "text": [
      "b'Hello, TensorFlow for everyone in this room!'\n"
     ]
    }
   ],
   "source": [
    "import tensorflow as tf\n",
    "hello = tf.constant('Hello, TensorFlow for everyone in this room!')\n",
    "sess = tf.Session()\n",
    "print(sess.run(hello))"
   ]
  },
  {
   "cell_type": "markdown",
   "metadata": {},
   "source": [
    "# MNIST multidigit classification using Keras"
   ]
  },
  {
   "cell_type": "code",
   "execution_count": null,
   "metadata": {},
   "outputs": [],
   "source": [
    "# MNIST comes preloaded in keras\n",
    "from keras.datasets import mnist\n",
    "# loading the data inside mnist dataset into the appropiate tuple of arrays\n",
    "# train_images + train_labels = training set\n",
    "# test_images + test_labels = test set\n",
    "(train_images, train_labels), (test_images,test_labels) = mnist.load_data()\n",
    "# train_images and test_images are 2D numpy array representing 28X28 greyscale images\n",
    "# train_labels and test_labels are 1D Tensors representing a label for a corresponding imge\n",
    "# mnist contains 60.000 training images and 10.000 testing images\n",
    "train_images.shape\n",
    "test_images.shape\n",
    "# each one with its corresponding label - len(x) because x is a 1D Tensor\n",
    "len(train_labels)\n",
    "len(test_labels)"
   ]
  },
  {
   "cell_type": "markdown",
   "metadata": {},
   "source": [
    "## Workflow for train and evaluate a model  (an Artificial Neural Network)\n",
    "* Use the training images and training labels for training your model or network. In this step the network is going to learn to associate a particular image of a grayscale digit with a specific label.\n",
    "* Ask the trained network to make predictions on a new set of images the network have never seen before. Here is when the test images comes in! The test images are then be used to evaluate the trained network\n",
    "* Evaluate the predictions made by the trained network on the test images using the true labels,in this case, the test labels!\n",
    "\n",
    "## Building the Network Architecture"
   ]
  },
  {
   "cell_type": "code",
   "execution_count": null,
   "metadata": {},
   "outputs": [],
   "source": [
    "# bringing the needed modules for create the network architecture\n",
    "from keras import models\n",
    "from keras import layers\n",
    "from keras.utils import to_categorical\n",
    "# Using a sequential architecture - a stack of layers arranged in a sequential manner.\n",
    "# Every layer receive an input from the layer before and computes an output for next layer\n",
    "my_network = models.Sequential()\n",
    "# Adding the specifications of each layer inside sequential model\n",
    "# Adding a Dense() layer or fully-connected layer. It will receive the input data a then\n",
    "# compute an output. The activation function for neaurons in this layers is going to be \n",
    "# a 'relu' activation function. Because this is the first layer, we have to indicate what \n",
    "# is the input shape, i.e. the size of each grayscale image representing certain digit.\n",
    "# MNIST have all the images of size 28*28 representing the pixel value from 0 to 255, a\n",
    "# value in the grayscale. We use comma symbol in input_shape = (28*28,) to proccess data \n",
    "# different batch sizes or number of elements to process as inputs, i.e. number of train \n",
    "# images or number of test images\n",
    "my_network.add(layers.Dense(512, activation = 'relu', input_shape = (28*28,)))\n",
    "my_network.add(layers.Dense(10, activation = 'softmax'))\n",
    "# next step is to select the loss function, optimizer and metrics to train and evaluate \n",
    "# the performance of our resulting model.\n",
    "my_network.compile(loss = 'categorical_crossentropy',\n",
    "                   optimizer = 'rmsprop',\n",
    "                   metrics = ['accuracy'])\n",
    "# Reshaping each image from a 2D vector (28,28) into a 1D vector (28*28=784), the flattened\n",
    "# version of the imput 2D grid.\n",
    "train_images = train_images.reshape((60000,28*28))\n",
    "# Normalizing the input vectors of 784 values into floating point numbers between [0,1], \n",
    "# in grayscale images, we assure this by dividing by 255 (rescaling) from [0,255] to [0,1]\n",
    "train_images = train_images.astype('float32') / 255\n",
    "# Same process with test images\n",
    "test_images = test_images.reshape((10000,28*28))\n",
    "test_images = test_images.astype('float32')\n",
    "# We also have to preprocess the labels. This time we will encode each label into a\n",
    "# one-hot representation of itself, as required for the categorical_crossentropy loss\n",
    "train_labels = to_categorical(train_labels)\n",
    "test_labels = to_categorical(test_labels)\n",
    "# Ready to train or fit the network with the corresponding and preprocessed input data\n",
    "my_network.fit(train_images, train_labels, epochs = 5, batch_size = 128)\n",
    "# We are going to evaluate the last model using test set\n",
    "test_loss, test_acc = my_network.evaluate(test_images, test_labels)\n",
    "# and printing the result (accuracy of the model) representing the fractions of the data\n",
    "# that was correctly predicted by the model or network.\n",
    "print('test accuracy:', test_acc)"
   ]
  },
  {
   "cell_type": "markdown",
   "metadata": {},
   "source": [
    "# Conclusions\n",
    "To-Do: Test with diferent hyperparameters like: epochs, batch size, network arquitecture, other metrics. Try regularizing the model to reduce overfitting."
   ]
  },
  {
   "cell_type": "code",
   "execution_count": null,
   "metadata": {},
   "outputs": [],
   "source": []
  }
 ],
 "metadata": {
  "kernelspec": {
   "display_name": "Python 3",
   "language": "python",
   "name": "python3"
  },
  "language_info": {
   "codemirror_mode": {
    "name": "ipython",
    "version": 3
   },
   "file_extension": ".py",
   "mimetype": "text/x-python",
   "name": "python",
   "nbconvert_exporter": "python",
   "pygments_lexer": "ipython3",
   "version": "3.6.4"
  }
 },
 "nbformat": 4,
 "nbformat_minor": 2
}
